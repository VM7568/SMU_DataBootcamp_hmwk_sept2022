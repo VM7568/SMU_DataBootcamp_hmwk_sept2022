{
 "cells": [
  {
   "cell_type": "markdown",
   "metadata": {},
   "source": [
    "# Module 12 Challenge\n",
    "## Deliverable 1: Scrape Titles and Preview Text from Mars News"
   ]
  },
  {
   "cell_type": "code",
   "execution_count": 1,
   "metadata": {},
   "outputs": [],
   "source": [
    "# Import Splinter and BeautifulSoup\n",
    "from splinter import Browser\n",
    "from bs4 import BeautifulSoup\n",
    "from webdriver_manager.chrome import ChromeDriverManager\n",
    "import pandas as pd"
   ]
  },
  {
   "cell_type": "code",
   "execution_count": 2,
   "metadata": {
    "scrolled": true
   },
   "outputs": [],
   "source": [
    "executable_path = {'executable_path': ChromeDriverManager().install()}\n",
    "browser = Browser('chrome', **executable_path, headless=False)"
   ]
  },
  {
   "cell_type": "markdown",
   "metadata": {},
   "source": [
    "### Step 1: Visit the Website\n",
    "\n",
    "1. Use automated browsing to visit the [Mars NASA news site](https://redplanetscience.com). Inspect the page to identify which elements to scrape.\n",
    "\n",
    "      > **Hint** To identify which elements to scrape, you might want to inspect the page by using Chrome DevTools."
   ]
  },
  {
   "cell_type": "code",
   "execution_count": 3,
   "metadata": {},
   "outputs": [],
   "source": [
    "# Visit the Mars NASA news site: https://redplanetscience.com\n",
    "browser.visit(\"https://redplanetscience.com\")"
   ]
  },
  {
   "cell_type": "code",
   "execution_count": 4,
   "metadata": {},
   "outputs": [
    {
     "data": {
      "text/plain": [
       "'<html><head>\\n      <meta charset=\"utf-8\">\\n      <meta name=\"viewport\" content=\"width=device-width, initial-scale=1\">\\n      <link href=\"https://cdn.jsdelivr.net/npm/bootstrap@5.0.0-beta1/dist/css/bootstrap.min.css\" rel=\"stylesheet\" integrity=\"sha384-giJF6kkoqNQ00vy+HMDP7azOuL0xtbfIcaT9wjKHr8RbDVddVHyTfAAsrekwKmP1\" crossorigin=\"anonymous\">\\n      <link rel=\"stylesheet\" type=\"text/css\" href=\"css/font.css\">\\n      <link rel=\"stylesheet\" type=\"text/css\" href=\"css/app.css\">\\n      <link rel=\"stylesheet\" '"
      ]
     },
     "execution_count": 4,
     "metadata": {},
     "output_type": "execute_result"
    }
   ],
   "source": [
    "html = browser.html\n",
    "html[0:500]"
   ]
  },
  {
   "cell_type": "markdown",
   "metadata": {},
   "source": [
    "### Step 2: Scrape the Website\n",
    "\n",
    "Create a Beautiful Soup object and use it to extract text elements from the website."
   ]
  },
  {
   "cell_type": "code",
   "execution_count": 5,
   "metadata": {},
   "outputs": [
    {
     "data": {
      "text/plain": [
       "bs4.BeautifulSoup"
      ]
     },
     "execution_count": 5,
     "metadata": {},
     "output_type": "execute_result"
    }
   ],
   "source": [
    "# Create a Beautiful Soup object\n",
    "planetsoup = BeautifulSoup(html)\n",
    "type(planetsoup)"
   ]
  },
  {
   "cell_type": "code",
   "execution_count": 6,
   "metadata": {},
   "outputs": [
    {
     "data": {
      "text/plain": [
       "15"
      ]
     },
     "execution_count": 6,
     "metadata": {},
     "output_type": "execute_result"
    }
   ],
   "source": [
    "# Extract all the text elements\n",
    "articles = planetsoup.find_all(\"div\", {\"class\": \"list_text\"})\n",
    "len(articles)"
   ]
  },
  {
   "cell_type": "code",
   "execution_count": 7,
   "metadata": {},
   "outputs": [
    {
     "data": {
      "text/plain": [
       "<div class=\"list_text\">\n",
       "<div class=\"list_date\">January 12, 2023</div>\n",
       "<div class=\"content_title\">Three New Views of Mars' Moon Phobos</div>\n",
       "<div class=\"article_teaser_body\">Taken with the infrared camera aboard NASA's Odyssey orbiter, they reveal temperature variations on the small moon as it drifts into and out of Mars’ shadow.</div>\n",
       "</div>"
      ]
     },
     "execution_count": 7,
     "metadata": {},
     "output_type": "execute_result"
    }
   ],
   "source": [
    "article = articles[0]\n",
    "article"
   ]
  },
  {
   "cell_type": "code",
   "execution_count": 8,
   "metadata": {},
   "outputs": [
    {
     "data": {
      "text/plain": [
       "'January 12, 2023'"
      ]
     },
     "execution_count": 8,
     "metadata": {},
     "output_type": "execute_result"
    }
   ],
   "source": [
    "article.find(\"div\", {\"class\": \"list_date\"}).text"
   ]
  },
  {
   "cell_type": "code",
   "execution_count": 9,
   "metadata": {},
   "outputs": [
    {
     "data": {
      "text/plain": [
       "\"Three New Views of Mars' Moon Phobos\""
      ]
     },
     "execution_count": 9,
     "metadata": {},
     "output_type": "execute_result"
    }
   ],
   "source": [
    "article.find(\"div\", {\"class\": \"content_title\"}).text"
   ]
  },
  {
   "cell_type": "code",
   "execution_count": 10,
   "metadata": {},
   "outputs": [
    {
     "data": {
      "text/plain": [
       "\"Taken with the infrared camera aboard NASA's Odyssey orbiter, they reveal temperature variations on the small moon as it drifts into and out of Mars’ shadow.\""
      ]
     },
     "execution_count": 10,
     "metadata": {},
     "output_type": "execute_result"
    }
   ],
   "source": [
    "article.find(\"div\", {\"class\": \"article_teaser_body\"}).text"
   ]
  },
  {
   "cell_type": "markdown",
   "metadata": {},
   "source": [
    "### Step 3: Store the Results\n",
    "\n",
    "Extract the titles and preview text of the news articles that you scraped. Store the scraping results in Python data structures as follows:\n",
    "\n",
    "* Store each title-and-preview pair in a Python dictionary. And, give each dictionary two keys: `title` and `preview`. An example is the following:\n",
    "\n",
    "  ```python\n",
    "  {'title': \"Mars Rover Begins Mission!\", \n",
    "        'preview': \"NASA's Mars Rover begins a multiyear mission to collect data about the little-explored planet.\"}\n",
    "  ```\n",
    "\n",
    "* Store all the dictionaries in a Python list.\n",
    "\n",
    "* Print the list in your notebook."
   ]
  },
  {
   "cell_type": "code",
   "execution_count": 13,
   "metadata": {},
   "outputs": [
    {
     "data": {
      "text/html": [
       "<div>\n",
       "<style scoped>\n",
       "    .dataframe tbody tr th:only-of-type {\n",
       "        vertical-align: middle;\n",
       "    }\n",
       "\n",
       "    .dataframe tbody tr th {\n",
       "        vertical-align: top;\n",
       "    }\n",
       "\n",
       "    .dataframe thead th {\n",
       "        text-align: right;\n",
       "    }\n",
       "</style>\n",
       "<table border=\"1\" class=\"dataframe\">\n",
       "  <thead>\n",
       "    <tr style=\"text-align: right;\">\n",
       "      <th></th>\n",
       "      <th>date</th>\n",
       "      <th>title</th>\n",
       "      <th>text</th>\n",
       "    </tr>\n",
       "  </thead>\n",
       "  <tbody>\n",
       "    <tr>\n",
       "      <th>0</th>\n",
       "      <td>January 12, 2023</td>\n",
       "      <td>Three New Views of Mars' Moon Phobos</td>\n",
       "      <td>Taken with the infrared camera aboard NASA's O...</td>\n",
       "    </tr>\n",
       "    <tr>\n",
       "      <th>1</th>\n",
       "      <td>January 11, 2023</td>\n",
       "      <td>HiRISE Views NASA's InSight and Curiosity on Mars</td>\n",
       "      <td>New images taken from space offer the clearest...</td>\n",
       "    </tr>\n",
       "    <tr>\n",
       "      <th>2</th>\n",
       "      <td>January 5, 2023</td>\n",
       "      <td>NASA's Mars Perseverance Rover Passes Flight R...</td>\n",
       "      <td>​The agency's Mars 2020 mission has one more b...</td>\n",
       "    </tr>\n",
       "    <tr>\n",
       "      <th>3</th>\n",
       "      <td>December 30, 2022</td>\n",
       "      <td>NASA InSight's 'Mole' Is Out of Sight</td>\n",
       "      <td>Now that the heat probe is just below the Mart...</td>\n",
       "    </tr>\n",
       "    <tr>\n",
       "      <th>4</th>\n",
       "      <td>December 27, 2022</td>\n",
       "      <td>New Selfie Shows Curiosity, the Mars Chemist</td>\n",
       "      <td>The NASA rover performed a special chemistry e...</td>\n",
       "    </tr>\n",
       "    <tr>\n",
       "      <th>5</th>\n",
       "      <td>December 24, 2022</td>\n",
       "      <td>3 Things We've Learned From NASA's Mars InSight</td>\n",
       "      <td>Scientists are finding new mysteries since the...</td>\n",
       "    </tr>\n",
       "    <tr>\n",
       "      <th>6</th>\n",
       "      <td>December 24, 2022</td>\n",
       "      <td>NASA, ULA Launch Mars 2020 Perseverance Rover ...</td>\n",
       "      <td>The agency's Mars 2020 mission is on its way. ...</td>\n",
       "    </tr>\n",
       "    <tr>\n",
       "      <th>7</th>\n",
       "      <td>December 23, 2022</td>\n",
       "      <td>Deadline Closing for Names to Fly on NASA's Ne...</td>\n",
       "      <td>You have until Sept. 30 to send your names to ...</td>\n",
       "    </tr>\n",
       "    <tr>\n",
       "      <th>8</th>\n",
       "      <td>December 23, 2022</td>\n",
       "      <td>A New Video Captures the Science of NASA's Per...</td>\n",
       "      <td>With a targeted launch date of July 30, the ne...</td>\n",
       "    </tr>\n",
       "    <tr>\n",
       "      <th>9</th>\n",
       "      <td>December 23, 2022</td>\n",
       "      <td>The Launch Is Approaching for NASA's Next Mars...</td>\n",
       "      <td>The Red Planet's surface has been visited by e...</td>\n",
       "    </tr>\n",
       "    <tr>\n",
       "      <th>10</th>\n",
       "      <td>December 20, 2022</td>\n",
       "      <td>Naming a NASA Mars Rover Can Change Your Life</td>\n",
       "      <td>Want to name the robotic scientist NASA is sen...</td>\n",
       "    </tr>\n",
       "    <tr>\n",
       "      <th>11</th>\n",
       "      <td>December 16, 2022</td>\n",
       "      <td>NASA Wins 4 Webbys, 4 People's Voice Awards</td>\n",
       "      <td>Winners include the JPL-managed \"Send Your Nam...</td>\n",
       "    </tr>\n",
       "    <tr>\n",
       "      <th>12</th>\n",
       "      <td>December 13, 2022</td>\n",
       "      <td>7 Things to Know About the Mars 2020 Persevera...</td>\n",
       "      <td>NASA's next rover to the Red Planet is slated ...</td>\n",
       "    </tr>\n",
       "    <tr>\n",
       "      <th>13</th>\n",
       "      <td>December 12, 2022</td>\n",
       "      <td>NASA to Broadcast Mars 2020 Perseverance Launc...</td>\n",
       "      <td>Starting July 27, news activities will cover e...</td>\n",
       "    </tr>\n",
       "    <tr>\n",
       "      <th>14</th>\n",
       "      <td>December 11, 2022</td>\n",
       "      <td>NASA Prepares for Moon and Mars With New Addit...</td>\n",
       "      <td>Robotic spacecraft will be able to communicate...</td>\n",
       "    </tr>\n",
       "  </tbody>\n",
       "</table>\n",
       "</div>"
      ],
      "text/plain": [
       "                 date                                              title  \\\n",
       "0    January 12, 2023               Three New Views of Mars' Moon Phobos   \n",
       "1    January 11, 2023  HiRISE Views NASA's InSight and Curiosity on Mars   \n",
       "2     January 5, 2023  NASA's Mars Perseverance Rover Passes Flight R...   \n",
       "3   December 30, 2022              NASA InSight's 'Mole' Is Out of Sight   \n",
       "4   December 27, 2022       New Selfie Shows Curiosity, the Mars Chemist   \n",
       "5   December 24, 2022   3 Things We've Learned From NASA's Mars InSight    \n",
       "6   December 24, 2022  NASA, ULA Launch Mars 2020 Perseverance Rover ...   \n",
       "7   December 23, 2022  Deadline Closing for Names to Fly on NASA's Ne...   \n",
       "8   December 23, 2022  A New Video Captures the Science of NASA's Per...   \n",
       "9   December 23, 2022  The Launch Is Approaching for NASA's Next Mars...   \n",
       "10  December 20, 2022      Naming a NASA Mars Rover Can Change Your Life   \n",
       "11  December 16, 2022        NASA Wins 4 Webbys, 4 People's Voice Awards   \n",
       "12  December 13, 2022  7 Things to Know About the Mars 2020 Persevera...   \n",
       "13  December 12, 2022  NASA to Broadcast Mars 2020 Perseverance Launc...   \n",
       "14  December 11, 2022  NASA Prepares for Moon and Mars With New Addit...   \n",
       "\n",
       "                                                 text  \n",
       "0   Taken with the infrared camera aboard NASA's O...  \n",
       "1   New images taken from space offer the clearest...  \n",
       "2   ​The agency's Mars 2020 mission has one more b...  \n",
       "3   Now that the heat probe is just below the Mart...  \n",
       "4   The NASA rover performed a special chemistry e...  \n",
       "5   Scientists are finding new mysteries since the...  \n",
       "6   The agency's Mars 2020 mission is on its way. ...  \n",
       "7   You have until Sept. 30 to send your names to ...  \n",
       "8   With a targeted launch date of July 30, the ne...  \n",
       "9   The Red Planet's surface has been visited by e...  \n",
       "10  Want to name the robotic scientist NASA is sen...  \n",
       "11  Winners include the JPL-managed \"Send Your Nam...  \n",
       "12  NASA's next rover to the Red Planet is slated ...  \n",
       "13  Starting July 27, news activities will cover e...  \n",
       "14  Robotic spacecraft will be able to communicate...  "
      ]
     },
     "execution_count": 13,
     "metadata": {},
     "output_type": "execute_result"
    }
   ],
   "source": [
    "# Create an empty list to store the dictionaries\n",
    "# Loop through the text elements\n",
    "# Extract the title and preview text from the elements\n",
    "# Store each title and preview pair in a dictionary\n",
    "# Add the dictionary to the list\n",
    "\n",
    "data = []\n",
    "\n",
    "for article in articles:\n",
    "    date = article.find(\"div\", {\"class\": \"list_date\"}).text\n",
    "    title = article.find(\"div\", {\"class\": \"content_title\"}).text\n",
    "    text = article.find(\"div\", {\"class\": \"article_teaser_body\"}).text\n",
    "    \n",
    "    row = {}\n",
    "    row[\"date\"] = date\n",
    "    row[\"title\"] = title\n",
    "    row[\"text\"] = text\n",
    "\n",
    "    data.append(row)\n",
    "\n",
    "newsdf = pd.DataFrame(data)\n",
    "newsdf"
   ]
  },
  {
   "cell_type": "code",
   "execution_count": 12,
   "metadata": {},
   "outputs": [
    {
     "name": "stdout",
     "output_type": "stream",
     "text": [
      "date  :  January 12, 2023\n",
      "title  :  Three New Views of Mars' Moon Phobos\n",
      "text  :  Taken with the infrared camera aboard NASA's Odyssey orbiter, they reveal temperature variations on the small moon as it drifts into and out of Mars’ shadow.\n",
      "----\n",
      "date  :  January 11, 2023\n",
      "title  :  HiRISE Views NASA's InSight and Curiosity on Mars\n",
      "text  :  New images taken from space offer the clearest orbital glimpse yet of InSight as well as a view of Curiosity rolling along.\n",
      "----\n",
      "date  :  January 5, 2023\n",
      "title  :  NASA's Mars Perseverance Rover Passes Flight Readiness Review\n",
      "text  :  ​The agency's Mars 2020 mission has one more big prelaunch review – the Launch Readiness Review, on July 27.\n",
      "----\n",
      "date  :  December 30, 2022\n",
      "title  :  NASA InSight's 'Mole' Is Out of Sight\n",
      "text  :  Now that the heat probe is just below the Martian surface, InSight's arm will scoop some additional soil on top to help it keep digging so it can take Mars' temperature.\n",
      "----\n",
      "date  :  December 27, 2022\n",
      "title  :  New Selfie Shows Curiosity, the Mars Chemist\n",
      "text  :  The NASA rover performed a special chemistry experiment at the location captured in its newest self-portrait.\n",
      "----\n",
      "date  :  December 24, 2022\n",
      "title  :  3 Things We've Learned From NASA's Mars InSight \n",
      "text  :  Scientists are finding new mysteries since the geophysics mission landed two years ago.\n",
      "----\n",
      "date  :  December 24, 2022\n",
      "title  :  NASA, ULA Launch Mars 2020 Perseverance Rover Mission to Red Planet\n",
      "text  :  The agency's Mars 2020 mission is on its way. It will land at Jezero Crater in about seven months, on Feb. 18, 2021. \n",
      "----\n",
      "date  :  December 23, 2022\n",
      "title  :  Deadline Closing for Names to Fly on NASA's Next Mars Rover\n",
      "text  :  You have until Sept. 30 to send your names to Mars aboard the Mars 2020 rover. \n",
      "----\n",
      "date  :  December 23, 2022\n",
      "title  :  A New Video Captures the Science of NASA's Perseverance Mars Rover\n",
      "text  :  With a targeted launch date of July 30, the next robotic scientist NASA is sending to the to the Red Planet has big ambitions.\n",
      "----\n",
      "date  :  December 23, 2022\n",
      "title  :  The Launch Is Approaching for NASA's Next Mars Rover, Perseverance\n",
      "text  :  The Red Planet's surface has been visited by eight NASA spacecraft. The ninth will be the first that includes a roundtrip ticket in its flight plan. \n",
      "----\n",
      "date  :  December 20, 2022\n",
      "title  :  Naming a NASA Mars Rover Can Change Your Life\n",
      "text  :  Want to name the robotic scientist NASA is sending to Mars in 2020? The student who named Curiosity — the rover currently exploring Mars — will tell you this is an opportunity worth taking.\n",
      "----\n",
      "date  :  December 16, 2022\n",
      "title  :  NASA Wins 4 Webbys, 4 People's Voice Awards\n",
      "text  :  Winners include the JPL-managed \"Send Your Name to Mars\" campaign, NASA's Global Climate Change website and Solar System Interactive.\n",
      "----\n",
      "date  :  December 13, 2022\n",
      "title  :  7 Things to Know About the Mars 2020 Perseverance Rover Mission\n",
      "text  :  NASA's next rover to the Red Planet is slated to launch no earlier than July 30. These highlights will get you up to speed on the ambitious mission.\n",
      "----\n",
      "date  :  December 12, 2022\n",
      "title  :  NASA to Broadcast Mars 2020 Perseverance Launch, Prelaunch Activities\n",
      "text  :  Starting July 27, news activities will cover everything from mission engineering and science to returning samples from Mars to, of course, the launch itself.\n",
      "----\n",
      "date  :  December 11, 2022\n",
      "title  :  NASA Prepares for Moon and Mars With New Addition to Its Deep Space Network\n",
      "text  :  Robotic spacecraft will be able to communicate with the dish using radio waves and lasers.\n",
      "----\n"
     ]
    }
   ],
   "source": [
    "# Print the list to confirm success\n",
    "\n",
    "for article in data:\n",
    "    for key, value in article.items():\n",
    "        print(key, ' : ', value)\n",
    "    print (\"----\")"
   ]
  },
  {
   "cell_type": "code",
   "execution_count": null,
   "metadata": {},
   "outputs": [],
   "source": []
  },
  {
   "cell_type": "code",
   "execution_count": 14,
   "metadata": {},
   "outputs": [],
   "source": [
    "browser.quit()"
   ]
  },
  {
   "cell_type": "markdown",
   "metadata": {},
   "source": [
    "### (Optional) Step 4: Export the Data\n",
    "\n",
    "Optionally, store the scraped data in a file or database (to ease sharing the data with others). To do so, export the scraped data to either a JSON file or a MongoDB database."
   ]
  },
  {
   "cell_type": "code",
   "execution_count": 15,
   "metadata": {},
   "outputs": [],
   "source": [
    "# Export data to JSON\n",
    "newsdf.to_json(\"mars_news.json\", orient=\"records\")"
   ]
  },
  {
   "cell_type": "code",
   "execution_count": null,
   "metadata": {},
   "outputs": [],
   "source": [
    "# Export data to MongoDB"
   ]
  }
 ],
 "metadata": {
  "kernelspec": {
   "display_name": "Python 3 (ipykernel)",
   "language": "python",
   "name": "python3"
  },
  "language_info": {
   "codemirror_mode": {
    "name": "ipython",
    "version": 3
   },
   "file_extension": ".py",
   "mimetype": "text/x-python",
   "name": "python",
   "nbconvert_exporter": "python",
   "pygments_lexer": "ipython3",
   "version": "3.9.13"
  }
 },
 "nbformat": 4,
 "nbformat_minor": 4
}
